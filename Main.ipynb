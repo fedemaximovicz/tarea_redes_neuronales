{
 "cells": [
  {
   "cell_type": "code",
   "execution_count": 1,
   "id": "06d3ab86-c4e8-4a33-90fb-1427dffbd28a",
   "metadata": {},
   "outputs": [],
   "source": [
    "import numpy as np\n",
    "from PIL import Image\n",
    "\n",
    "import torch\n",
    "import torch.nn as nn\n",
    "import torch.nn.functional as F\n",
    "import torch.optim as optim\n",
    "\n",
    "import torchvision\n",
    "import torchvision.transforms as transforms"
   ]
  },
  {
   "cell_type": "code",
   "execution_count": 2,
   "id": "726de3ef-62d9-44a2-9066-7f95bf6045b3",
   "metadata": {},
   "outputs": [],
   "source": [
    "transform = transforms.Compose([\n",
    "    transforms.ToTensor(),\n",
    "    transforms.Normalize((0.5,0.5,0.5), (0.5,0.5,0.5))\n",
    "])"
   ]
  },
  {
   "cell_type": "code",
   "execution_count": 3,
   "id": "5ac2fb5b-546a-4c89-82a1-cd2bf692b912",
   "metadata": {},
   "outputs": [
    {
     "name": "stderr",
     "output_type": "stream",
     "text": [
      "100.0%\n"
     ]
    }
   ],
   "source": [
    "train_data = torchvision.datasets.CIFAR10(root='./data', train=True, transform=transform, download=True)\n",
    "test_data = torchvision.datasets.CIFAR10(root='./data', train=False, transform=transform, download=True)\n",
    "\n",
    "train_loader = torch.utils.data.DataLoader(train_data, batch_size=32, shuffle=True, num_workers=2)\n",
    "test_loader = torch.utils.data.DataLoader(test_data, batch_size=32, shuffle=True, num_workers=2)"
   ]
  },
  {
   "cell_type": "code",
   "execution_count": 4,
   "id": "52239665-a390-4b13-a52b-965da8231a95",
   "metadata": {},
   "outputs": [],
   "source": [
    "image, label = train_data[0]"
   ]
  },
  {
   "cell_type": "code",
   "execution_count": 5,
   "id": "a48ed92b-e4f4-4527-85e5-97cf38df0f74",
   "metadata": {},
   "outputs": [
    {
     "data": {
      "text/plain": [
       "torch.Size([3, 32, 32])"
      ]
     },
     "execution_count": 5,
     "metadata": {},
     "output_type": "execute_result"
    }
   ],
   "source": [
    "image.size()"
   ]
  },
  {
   "cell_type": "code",
   "execution_count": 6,
   "id": "2b74622a-06d1-4639-bd57-b855ab55a754",
   "metadata": {},
   "outputs": [],
   "source": [
    "class_names = ['plane', 'car', 'bird', 'cat', 'deer', 'dog', 'frog', 'horse', 'ship', 'truck']"
   ]
  },
  {
   "cell_type": "code",
   "execution_count": 7,
   "id": "a4059c9f-8c22-4502-b138-b3762b21be9a",
   "metadata": {},
   "outputs": [],
   "source": [
    "class NeuralNet(nn.Module):\n",
    "    def __init__(self):\n",
    "        super().__init__()\n",
    "\n",
    "        #capa convolucional\n",
    "        self.conv1 = nn.Conv2d(3,12,5)\n",
    "        self.pool = nn.MaxPool2d(2,2)\n",
    "        self.conv2 = nn.Conv2d(12, 24, 5)\n",
    "        self.fc1 = nn.Linear(24*5*5, 120)\n",
    "        self.fc2 = nn.Linear(120, 84)\n",
    "        self.fc3 = nn.Linear(84, 10)\n",
    "\n",
    "    def forward(self, x):\n",
    "        x = self.pool(F.relu(self.conv1(x)))\n",
    "        x = self.pool(F.relu(self.conv2(x)))\n",
    "        x = torch.flatten(x, 1)\n",
    "        x = F.relu(self.fc1(x))\n",
    "        x = F.relu(self.fc2(x))\n",
    "        x = self.fc3(x)\n",
    "        return x"
   ]
  },
  {
   "cell_type": "code",
   "execution_count": 8,
   "id": "a8defe5b-1a27-40e8-86f0-5dec6ff04860",
   "metadata": {},
   "outputs": [],
   "source": [
    "net = NeuralNet()\n",
    "loss_function = nn.CrossEntropyLoss()\n",
    "optimizer = optim.SGD(net.parameters(), lr=0.001, momentum=0.9)"
   ]
  },
  {
   "cell_type": "code",
   "execution_count": 9,
   "id": "c91d1f37-0e7d-4d53-a0f4-797d0e808ebc",
   "metadata": {},
   "outputs": [
    {
     "name": "stdout",
     "output_type": "stream",
     "text": [
      "Training epoch: 0...\n",
      "Loss: 2.2402\n",
      "Training epoch: 1...\n",
      "Loss: 1.8105\n",
      "Training epoch: 2...\n",
      "Loss: 1.5537\n",
      "Training epoch: 3...\n",
      "Loss: 1.4084\n",
      "Training epoch: 4...\n",
      "Loss: 1.3113\n",
      "Training epoch: 5...\n",
      "Loss: 1.2306\n",
      "Training epoch: 6...\n",
      "Loss: 1.1569\n",
      "Training epoch: 7...\n",
      "Loss: 1.0927\n",
      "Training epoch: 8...\n",
      "Loss: 1.0389\n",
      "Training epoch: 9...\n",
      "Loss: 0.9910\n",
      "Training epoch: 10...\n",
      "Loss: 0.9475\n",
      "Training epoch: 11...\n",
      "Loss: 0.9080\n",
      "Training epoch: 12...\n",
      "Loss: 0.8697\n",
      "Training epoch: 13...\n",
      "Loss: 0.8409\n",
      "Training epoch: 14...\n",
      "Loss: 0.8060\n",
      "Training epoch: 15...\n",
      "Loss: 0.7722\n",
      "Training epoch: 16...\n",
      "Loss: 0.7441\n",
      "Training epoch: 17...\n",
      "Loss: 0.7171\n",
      "Training epoch: 18...\n",
      "Loss: 0.6905\n",
      "Training epoch: 19...\n",
      "Loss: 0.6642\n",
      "Training epoch: 20...\n",
      "Loss: 0.6383\n",
      "Training epoch: 21...\n",
      "Loss: 0.6156\n",
      "Training epoch: 22...\n",
      "Loss: 0.5910\n",
      "Training epoch: 23...\n",
      "Loss: 0.5664\n",
      "Training epoch: 24...\n",
      "Loss: 0.5472\n",
      "Training epoch: 25...\n",
      "Loss: 0.5283\n",
      "Training epoch: 26...\n",
      "Loss: 0.5064\n",
      "Training epoch: 27...\n",
      "Loss: 0.4820\n",
      "Training epoch: 28...\n",
      "Loss: 0.4629\n",
      "Training epoch: 29...\n",
      "Loss: 0.4464\n",
      "Training epoch: 30...\n",
      "Loss: 0.4289\n",
      "Training epoch: 31...\n",
      "Loss: 0.4066\n",
      "Training epoch: 32...\n",
      "Loss: 0.3908\n",
      "Training epoch: 33...\n",
      "Loss: 0.3688\n",
      "Training epoch: 34...\n",
      "Loss: 0.3538\n",
      "Training epoch: 35...\n",
      "Loss: 0.3419\n",
      "Training epoch: 36...\n",
      "Loss: 0.3215\n",
      "Training epoch: 37...\n",
      "Loss: 0.3082\n",
      "Training epoch: 38...\n",
      "Loss: 0.2930\n",
      "Training epoch: 39...\n",
      "Loss: 0.2825\n",
      "Training epoch: 40...\n",
      "Loss: 0.2673\n",
      "Training epoch: 41...\n",
      "Loss: 0.2492\n",
      "Training epoch: 42...\n",
      "Loss: 0.2431\n",
      "Training epoch: 43...\n",
      "Loss: 0.2241\n",
      "Training epoch: 44...\n",
      "Loss: 0.2186\n",
      "Training epoch: 45...\n",
      "Loss: 0.2006\n",
      "Training epoch: 46...\n",
      "Loss: 0.2016\n",
      "Training epoch: 47...\n",
      "Loss: 0.1939\n",
      "Training epoch: 48...\n",
      "Loss: 0.1732\n",
      "Training epoch: 49...\n",
      "Loss: 0.1701\n",
      "Training epoch: 50...\n",
      "Loss: 0.1820\n",
      "Training epoch: 51...\n",
      "Loss: 0.1574\n",
      "Training epoch: 52...\n",
      "Loss: 0.1435\n",
      "Training epoch: 53...\n",
      "Loss: 0.1451\n",
      "Training epoch: 54...\n",
      "Loss: 0.1482\n",
      "Training epoch: 55...\n",
      "Loss: 0.1283\n",
      "Training epoch: 56...\n",
      "Loss: 0.1259\n",
      "Training epoch: 57...\n",
      "Loss: 0.1127\n",
      "Training epoch: 58...\n",
      "Loss: 0.1252\n",
      "Training epoch: 59...\n",
      "Loss: 0.1158\n",
      "Training epoch: 60...\n",
      "Loss: 0.1196\n",
      "Training epoch: 61...\n",
      "Loss: 0.1279\n",
      "Training epoch: 62...\n",
      "Loss: 0.0941\n",
      "Training epoch: 63...\n",
      "Loss: 0.1080\n"
     ]
    }
   ],
   "source": [
    "for epoch in range(64):\n",
    "    print(f\"Training epoch: {epoch}...\")\n",
    "\n",
    "    running_loss = 0.0\n",
    "\n",
    "    for i, data in enumerate(train_loader):\n",
    "        inputs, labels = data\n",
    "\n",
    "        optimizer.zero_grad()\n",
    "        \n",
    "        outputs = net(inputs)\n",
    "\n",
    "        loss = loss_function(outputs, labels)\n",
    "        loss.backward()\n",
    "        optimizer.step()\n",
    "\n",
    "        running_loss += loss.item()\n",
    " \n",
    "    print (f\"Loss: {running_loss/len(train_loader):.4f}\")"
   ]
  },
  {
   "cell_type": "code",
   "execution_count": 10,
   "id": "b068430f-7f51-4e08-b2f6-d3f1293b9176",
   "metadata": {},
   "outputs": [],
   "source": [
    "torch.save(net.state_dict(), 'trained_net.pth')"
   ]
  },
  {
   "cell_type": "code",
   "execution_count": 11,
   "id": "3df2688d-787c-4dbc-961f-8145663dce74",
   "metadata": {},
   "outputs": [
    {
     "data": {
      "text/plain": [
       "<All keys matched successfully>"
      ]
     },
     "execution_count": 11,
     "metadata": {},
     "output_type": "execute_result"
    }
   ],
   "source": [
    "net = NeuralNet()\n",
    "net.load_state_dict(torch.load('trained_net.pth'))"
   ]
  },
  {
   "cell_type": "code",
   "execution_count": 12,
   "id": "b17cef11-0d1f-4647-aac4-5c3821c349ea",
   "metadata": {},
   "outputs": [
    {
     "name": "stdout",
     "output_type": "stream",
     "text": [
      "Accuracy: 65.72%\n"
     ]
    }
   ],
   "source": [
    "correct = 0\n",
    "total = 0\n",
    "\n",
    "net.eval()\n",
    "\n",
    "with torch.no_grad():\n",
    "    for data in test_loader:\n",
    "        images, labels = data\n",
    "        outputs = net(images)\n",
    "        _, predicted = torch.max(outputs, 1)\n",
    "        total += labels.size(0)\n",
    "        correct += (predicted == labels).sum().item()\n",
    "\n",
    "accuracy = 100 * correct / total\n",
    "\n",
    "print(f\"Accuracy: {accuracy}%\")"
   ]
  },
  {
   "cell_type": "code",
   "execution_count": 14,
   "id": "192ce90b-fbe8-4f5c-8d80-3d06fc3eae24",
   "metadata": {},
   "outputs": [
    {
     "name": "stdout",
     "output_type": "stream",
     "text": [
      "Prediction: car\n",
      "Prediction: dog\n",
      "Prediction: dog\n"
     ]
    }
   ],
   "source": [
    "new_transform = transforms.Compose([\n",
    "    transforms.Resize((32,32)),\n",
    "    transforms.ToTensor(),\n",
    "    transforms.Normalize((0.5,0.5,0.5), (0.5,0.5,0.5))\n",
    "])\n",
    "\n",
    "def load_image(image_path):\n",
    "    image = Image.open(image_path)\n",
    "    image = new_transform(image)\n",
    "    image = image.unsqueeze(0)\n",
    "\n",
    "    return image\n",
    "\n",
    "image_paths = ['a350.jpg', 'golden.jpg', 'kimi.jpg']\n",
    "images = [load_image(img) for img in image_paths]\n",
    "\n",
    "net.eval()\n",
    "with torch.no_grad():\n",
    "    for image in images:\n",
    "        output = net(image)\n",
    "        _, predicted = torch.max(output, 1)\n",
    "        print(f\"Prediction: {class_names[predicted.item()]}\")"
   ]
  },
  {
   "cell_type": "code",
   "execution_count": null,
   "id": "543cce5d-1fbc-4d08-85b6-df61388ef9e2",
   "metadata": {},
   "outputs": [],
   "source": []
  }
 ],
 "metadata": {
  "kernelspec": {
   "display_name": "Python 3 (ipykernel)",
   "language": "python",
   "name": "python3"
  },
  "language_info": {
   "codemirror_mode": {
    "name": "ipython",
    "version": 3
   },
   "file_extension": ".py",
   "mimetype": "text/x-python",
   "name": "python",
   "nbconvert_exporter": "python",
   "pygments_lexer": "ipython3",
   "version": "3.12.7"
  }
 },
 "nbformat": 4,
 "nbformat_minor": 5
}
